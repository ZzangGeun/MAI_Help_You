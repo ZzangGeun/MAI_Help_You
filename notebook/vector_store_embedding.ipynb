{
 "cells": [
  {
   "cell_type": "code",
   "execution_count": null,
   "id": "341036af",
   "metadata": {},
   "outputs": [],
   "source": [
    "from langchain_community.vectorstores import FAISS\n",
    "from langchain_community.vectorstores.utils import DistanceStrategy\n",
    "from langchain.embeddings import HuggingFaceEmbeddings\n",
    "\n",
    "embeddings = HuggingFaceEmbeddings(model_name = \"intfloat/multilingual-e5-large-instruct\",model_kwargs={\"device\": \"cuda\"})\n",
    "\n",
    "\n",
    "def get_embedding(text):\n",
    "    try:\n",
    "        response = embeddings.embed_query(text)\n",
    "        return response.data[0].embedding\n",
    "    except Exception as e:\n",
    "        print(f'임베딩 생성 중 오류 발생 : {e}')\n",
    "        return None"
   ]
  }
 ],
 "metadata": {
  "language_info": {
   "name": "python"
  }
 },
 "nbformat": 4,
 "nbformat_minor": 5
}
